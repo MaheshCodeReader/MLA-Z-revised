{
 "cells": [
  {
   "cell_type": "code",
   "execution_count": 1,
   "metadata": {},
   "outputs": [
    {
     "data": {
      "text/html": [
       "<div>\n",
       "<style scoped>\n",
       "    .dataframe tbody tr th:only-of-type {\n",
       "        vertical-align: middle;\n",
       "    }\n",
       "\n",
       "    .dataframe tbody tr th {\n",
       "        vertical-align: top;\n",
       "    }\n",
       "\n",
       "    .dataframe thead th {\n",
       "        text-align: right;\n",
       "    }\n",
       "</style>\n",
       "<table border=\"1\" class=\"dataframe\">\n",
       "  <thead>\n",
       "    <tr style=\"text-align: right;\">\n",
       "      <th></th>\n",
       "      <th>Position</th>\n",
       "      <th>Level</th>\n",
       "      <th>Salary</th>\n",
       "    </tr>\n",
       "  </thead>\n",
       "  <tbody>\n",
       "    <tr>\n",
       "      <th>0</th>\n",
       "      <td>Business Analyst</td>\n",
       "      <td>1</td>\n",
       "      <td>45000</td>\n",
       "    </tr>\n",
       "    <tr>\n",
       "      <th>1</th>\n",
       "      <td>Junior Consultant</td>\n",
       "      <td>2</td>\n",
       "      <td>50000</td>\n",
       "    </tr>\n",
       "    <tr>\n",
       "      <th>2</th>\n",
       "      <td>Senior Consultant</td>\n",
       "      <td>3</td>\n",
       "      <td>60000</td>\n",
       "    </tr>\n",
       "    <tr>\n",
       "      <th>3</th>\n",
       "      <td>Manager</td>\n",
       "      <td>4</td>\n",
       "      <td>80000</td>\n",
       "    </tr>\n",
       "    <tr>\n",
       "      <th>4</th>\n",
       "      <td>Country Manager</td>\n",
       "      <td>5</td>\n",
       "      <td>110000</td>\n",
       "    </tr>\n",
       "    <tr>\n",
       "      <th>5</th>\n",
       "      <td>Region Manager</td>\n",
       "      <td>6</td>\n",
       "      <td>150000</td>\n",
       "    </tr>\n",
       "    <tr>\n",
       "      <th>6</th>\n",
       "      <td>Partner</td>\n",
       "      <td>7</td>\n",
       "      <td>200000</td>\n",
       "    </tr>\n",
       "    <tr>\n",
       "      <th>7</th>\n",
       "      <td>Senior Partner</td>\n",
       "      <td>8</td>\n",
       "      <td>300000</td>\n",
       "    </tr>\n",
       "    <tr>\n",
       "      <th>8</th>\n",
       "      <td>C-level</td>\n",
       "      <td>9</td>\n",
       "      <td>500000</td>\n",
       "    </tr>\n",
       "    <tr>\n",
       "      <th>9</th>\n",
       "      <td>CEO</td>\n",
       "      <td>10</td>\n",
       "      <td>1000000</td>\n",
       "    </tr>\n",
       "  </tbody>\n",
       "</table>\n",
       "</div>"
      ],
      "text/plain": [
       "            Position  Level   Salary\n",
       "0   Business Analyst      1    45000\n",
       "1  Junior Consultant      2    50000\n",
       "2  Senior Consultant      3    60000\n",
       "3            Manager      4    80000\n",
       "4    Country Manager      5   110000\n",
       "5     Region Manager      6   150000\n",
       "6            Partner      7   200000\n",
       "7     Senior Partner      8   300000\n",
       "8            C-level      9   500000\n",
       "9                CEO     10  1000000"
      ]
     },
     "execution_count": 1,
     "metadata": {},
     "output_type": "execute_result"
    }
   ],
   "source": [
    "\n",
    "## Import libraries\n",
    "import numpy as np\n",
    "import pandas as pd\n",
    "import matplotlib.pyplot as plt\n",
    "\n",
    "\n",
    "## Import dataset\n",
    "dataset = pd.read_csv(\"Position_Salaries.csv\")\n",
    "dataset"
   ]
  },
  {
   "cell_type": "code",
   "execution_count": 2,
   "metadata": {},
   "outputs": [
    {
     "name": "stdout",
     "output_type": "stream",
     "text": [
      "Variable   Type         Data/Info\n",
      "---------------------------------\n",
      "X          ndarray      10x1: 10 elems, type `int64`, 80 bytes\n",
      "dataset    DataFrame                Position  Lev<...>      CEO     10  1000000\n",
      "np         module       <module 'numpy' from '/ho<...>kages/numpy/__init__.py'>\n",
      "pd         module       <module 'pandas' from '/h<...>ages/pandas/__init__.py'>\n",
      "plt        module       <module 'matplotlib.pyplo<...>es/matplotlib/pyplot.py'>\n",
      "y          ndarray      10: 10 elems, type `int64`, 80 bytes\n"
     ]
    }
   ],
   "source": [
    "# matrix of features\n",
    "X = dataset.iloc[:, 1:2].values # here, column index for dataset was needed, but added to make the DATATYPE AS MATRIX\n",
    "# Dependent variable vector\n",
    "y = dataset.iloc[:, 2].values\n",
    "X, y\n",
    "%whos"
   ]
  },
  {
   "cell_type": "code",
   "execution_count": 3,
   "metadata": {},
   "outputs": [
    {
     "data": {
      "image/png": "[encoded data removed]",
      "text/plain": [
       "<Figure size 432x288 with 1 Axes>"
      ]
     },
     "metadata": {
      "needs_background": "light"
     },
     "output_type": "display_data"
    }
   ],
   "source": [
    "# Plotting level and salary, to DECIDE MODEL TO USE\n",
    "plt.scatter(X, y, color = \"red\")\n",
    "plt.show()"
   ]
  },
  {
   "cell_type": "code",
   "execution_count": 4,
   "metadata": {},
   "outputs": [],
   "source": [
    "# DECISION: Polynomial model suits better according to above graph"
   ]
  },
  {
   "cell_type": "code",
   "execution_count": 5,
   "metadata": {},
   "outputs": [],
   "source": [
    "## train - split test\n",
    "# VERY SMALL DATASET, SO SPLITTING DOES NOT MAKE SENSE"
   ]
  },
  {
   "cell_type": "code",
   "execution_count": 6,
   "metadata": {},
   "outputs": [],
   "source": [
    "# Comapring Linear and polynomial models\n",
    "\n",
    "# linear model\n",
    "from sklearn.linear_model import LinearRegression\n",
    "linearregressor = LinearRegression()\n",
    "linearregressor = linearregressor.fit(X, y)\n",
    "resultsalary_lin_reg = linearregressor.predict(np.array(6.5).reshape(1, -1))"
   ]
  },
  {
   "cell_type": "code",
   "execution_count": 7,
   "metadata": {},
   "outputs": [
    {
     "data": {
      "text/plain": [
       "array([[  1.,   1.,   1.],\n",
       "       [  1.,   2.,   4.],\n",
       "       [  1.,   3.,   9.],\n",
       "       [  1.,   4.,  16.],\n",
       "       [  1.,   5.,  25.],\n",
       "       [  1.,   6.,  36.],\n",
       "       [  1.,   7.,  49.],\n",
       "       [  1.,   8.,  64.],\n",
       "       [  1.,   9.,  81.],\n",
       "       [  1.,  10., 100.]])"
      ]
     },
     "execution_count": 7,
     "metadata": {},
     "output_type": "execute_result"
    }
   ],
   "source": [
    "# polynomial modelo\n",
    "from sklearn.preprocessing import PolynomialFeatures\n",
    "poly_feat = PolynomialFeatures(degree = 2) # to make X^0, X^1, X^2\n",
    "X_poly = poly_feat.fit_transform(X)\n",
    "X_poly"
   ]
  },
  {
   "cell_type": "code",
   "execution_count": 12,
   "metadata": {},
   "outputs": [],
   "source": [
    "linearregressor_2 = LinearRegression()\n",
    "linearregressor_2 = linearregressor_2.fit(X_poly, y)\n",
    "resultsalary_lin_reg_2 = linearregressor_2.predict(np.array([1, 6.5, 6.5 ** 2]).reshape(1, -1))"
   ]
  },
  {
   "cell_type": "code",
   "execution_count": 13,
   "metadata": {},
   "outputs": [
    {
     "data": {
      "image/png": "[encoded data removed]",
      "text/plain": [
       "<Figure size 432x288 with 1 Axes>"
      ]
     },
     "metadata": {
      "needs_background": "light"
     },
     "output_type": "display_data"
    },
    {
     "data": {
      "image/png": "[encoded data removed]",
      "text/plain": [
       "<Figure size 432x288 with 1 Axes>"
      ]
     },
     "metadata": {
      "needs_background": "light"
     },
     "output_type": "display_data"
    }
   ],
   "source": [
    "# Visualising linear and polynomial regresssions\n",
    "\n",
    "# linear regression\n",
    "\n",
    "plt.scatter(X, y, color = \"red\")\n",
    "plt.scatter(6.5, resultsalary_lin_reg, color=\"green\") #ACTUAL RESULT FROM LINEAR REGRESSION\n",
    "plt.plot(X, linearregressor.predict(X), color='blue')\n",
    "plt.title('Level Vs Salary (LINEAR)')\n",
    "plt.xlabel('level')\n",
    "plt.ylabel('Salary')\n",
    "plt.show()\n",
    "\n",
    "# polynomial regression degree 2\n",
    "\n",
    "plt.scatter(X, y, color = \"red\")\n",
    "plt.scatter(6.5, resultsalary_lin_reg_2, color=\"green\") #ACTUAL RESULT FROM polynomial REGRESSION\n",
    "plt.plot(X, linearregressor_2.predict(X_poly), color='blue')\n",
    "plt.title('Level Vs Salary (POLYNOMIAL)')\n",
    "plt.xlabel('level')\n",
    "plt.ylabel('Salary')\n",
    "plt.show()\n",
    "\n"
   ]
  },
  {
   "cell_type": "code",
   "execution_count": 20,
   "metadata": {},
   "outputs": [
    {
     "data": {
      "image/png": "[encoded data removed]",
      "text/plain": [
       "<Figure size 432x288 with 1 Axes>"
      ]
     },
     "metadata": {
      "needs_background": "light"
     },
     "output_type": "display_data"
    }
   ],
   "source": [
    "# polynomial regression degree 3\n",
    "from sklearn.preprocessing import PolynomialFeatures\n",
    "poly_feat = PolynomialFeatures(degree = 3) # to make X^0, X^1, X^2\n",
    "X_poly_degree3 = poly_feat.fit_transform(X)\n",
    "\n",
    "linearregressor_3 = LinearRegression()\n",
    "linearregressor_3 = linearregressor_3.fit(X_poly_degree3, y)\n",
    "resultsalary_lin_reg_3 = linearregressor_3.predict(np.array([1, 6.5, 6.5 ** 2, 6.5**3]).reshape(1, -1))\n",
    "\n",
    "# polynomial regression degree 3\n",
    "plt.scatter(X, y, color = \"red\")\n",
    "plt.scatter(6.5, resultsalary_lin_reg_3, color=\"green\") #ACTUAL RESULT FROM polynomial REGRESSION\n",
    "plt.plot(X, linearregressor_3.predict(X_poly_degree3), color='blue')\n",
    "plt.title('Level Vs Salary (POLYNOMIAL, degree 3, BETTER FIT)')\n",
    "plt.xlabel('level')\n",
    "plt.ylabel('Salary')\n",
    "plt.show()\n",
    "\n"
   ]
  },
  {
   "cell_type": "code",
   "execution_count": 25,
   "metadata": {},
   "outputs": [
    {
     "data": {
      "image/png": "[encoded data removed]",
      "text/plain": [
       "<Figure size 432x288 with 1 Axes>"
      ]
     },
     "metadata": {
      "needs_background": "light"
     },
     "output_type": "display_data"
    }
   ],
   "source": [
    "# polynomial regression degree 4\n",
    "from sklearn.preprocessing import PolynomialFeatures\n",
    "poly_feat = PolynomialFeatures(degree = 4) # to make X^0, X^1, X^2\n",
    "X_poly_degree4 = poly_feat.fit_transform(X)\n",
    "\n",
    "linearregressor_4 = LinearRegression()\n",
    "linearregressor_4 = linearregressor_4.fit(X_poly_degree4, y)\n",
    "resultsalary_lin_reg_4 = linearregressor_4.predict(np.array([1, 6.5, 6.5 ** 2, 6.5**3, 6.5**4]).reshape(1, -1))\n",
    "\n",
    "# polynomial regression degree 4\n",
    "plt.scatter(X, y, color = \"red\")\n",
    "plt.scatter(6.5, resultsalary_lin_reg_4, color=\"green\") #ACTUAL RESULT FROM polynomial REGRESSION\n",
    "plt.plot(X, linearregressor_4.predict(X_poly_degree4), color='blue')\n",
    "plt.title('Level Vs Salary (POLYNOMIAL, degree 3, VERY ACCURATE FIT)')\n",
    "plt.xlabel('level')\n",
    "plt.ylabel('Salary')\n",
    "plt.show()\n",
    "\n"
   ]
  }
 ],
 "metadata": {
  "kernelspec": {
   "display_name": "Python 3",
   "language": "python",
   "name": "python3"
  },
  "language_info": {
   "codemirror_mode": {
    "name": "ipython",
    "version": 3
   },
   "file_extension": ".py",
   "mimetype": "text/x-python",
   "name": "python",
   "nbconvert_exporter": "python",
   "pygments_lexer": "ipython3",
   "version": "3.7.3"
  }
 },
 "nbformat": 4,
 "nbformat_minor": 2
}
